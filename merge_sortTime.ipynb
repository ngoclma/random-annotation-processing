{
 "cells": [
  {
   "cell_type": "code",
   "execution_count": 41,
   "metadata": {},
   "outputs": [],
   "source": [
    "import pandas as pd\n",
    "import numpy as np"
   ]
  },
  {
   "cell_type": "markdown",
   "metadata": {},
   "source": [
    "# FILE A"
   ]
  },
  {
   "cell_type": "code",
   "execution_count": 42,
   "metadata": {},
   "outputs": [],
   "source": [
    "# reading csv files\n",
    "data_a1 = pd.read_csv('ch1_a.csv', delim_whitespace=True)\n",
    "data_a2 = pd.read_csv('ch2_a.csv', delim_whitespace=True)\n",
    "\n",
    "# convert to df\n",
    "df_a1 = pd.DataFrame(data_a1)\n",
    "df_a2 = pd.DataFrame(data_a2)"
   ]
  },
  {
   "cell_type": "code",
   "execution_count": 43,
   "metadata": {},
   "outputs": [],
   "source": [
    "# create channel column\n",
    "n1 = len(df_a1)\n",
    "channel1 = ['ch1'] * n1\n",
    "\n",
    "n2 = len(df_a2)\n",
    "channel2 = ['ch2'] * n2\n",
    "\n",
    "# add column to df\n",
    "df_a1['channel'] = channel1\n",
    "df_a2['channel'] = channel2"
   ]
  },
  {
   "cell_type": "code",
   "execution_count": 46,
   "metadata": {},
   "outputs": [],
   "source": [
    "# create df_a\n",
    "l_a = []\n",
    "l_a1 = df_a1.values.tolist()\n",
    "l_a2 = df_a2.values.tolist()\n",
    "ar_a1 = np.array(l_a1)\n",
    "ar_a2 = np.array(l_a2)\n",
    "\n",
    "# init\n",
    "i1 = i2 = 0\n",
    "n = n1 + n2\n",
    "check1 = check2 = 0\n",
    "\n",
    "while (len(l_a) < n):\n",
    "    # slice df_a1\n",
    "    if (check1 == 0):\n",
    "        j1 = i1 + 1\n",
    "        while (j1 < n1) and (l_a1[i1][0] == l_a1[j1][0]):\n",
    "                j1 = j1 + 1\n",
    "        if (j1 <= n1):\n",
    "            t1 = ar_a1[i1:j1,:]\n",
    "            t1 = t1.tolist()\n",
    "            check1 = 1\n",
    "        else:\n",
    "            t1 = []\n",
    "    \n",
    "    # slice df_a2\n",
    "    if (check2 == 0):    \n",
    "        j2 = i2 + 1\n",
    "        while (j2 < n2) and (l_a2[i2][0] == l_a2[j2][0]):\n",
    "                j2 = j2 + 1\n",
    "        if (j2 <= n2):\n",
    "            t2 = ar_a2[i2:j2,:]\n",
    "            t2 = t2.tolist()\n",
    "            check2 = 1\n",
    "        else:\n",
    "            t2 = []\n",
    "    \n",
    "    #merge\n",
    "    if  (check2 == 0) or ((check1 == 1) and (l_a1[i1][0] <= l_a2[i2][0])):\n",
    "        l_a = l_a + t1\n",
    "        check1 = 0\n",
    "        i1 = j1\n",
    "    elif (check1 == 0) or ((check2 == 1) and (l_a2[i2][0] < l_a1[i1][0])):\n",
    "        l_a = l_a + t2\n",
    "        check2 = 0\n",
    "        i2 = j2\n",
    "    \n",
    "df_a = pd.DataFrame(l_a)\n",
    "df_a.columns = df_a1.columns\n",
    "#df_a.to_csv('a_combine.csv', index=False)\n",
    "f = open('a_combine.csv', 'w')\n",
    "f.write('timestamp'.ljust(25) + 'colum1'.ljust(10) + 'colum2'.ljust(10) + 'colum3'.ljust(10) + 'colum4'.ljust(10) + 'colum5'.ljust(10) + 'colum6'.ljust(10) + 'colum7'.ljust(10) + 'colum8'.ljust(10) + 'channel'.ljust(15) + '\\n') \n",
    "\n",
    "f.close()\n",
    "for i in range(len(df_a)):\n",
    "    with open('a_combine.csv', 'a') as f:\n",
    "        f.write(str(df_a.loc[i, 'timestamp']).ljust(25) + str(df_a.loc[i, 'colum1']).ljust(10) + str(df_a.loc[i, 'colum2']).ljust(10) + str(df_a.loc[i, 'colum3']).ljust(10) + str(df_a.loc[i, 'colum4']).ljust(10) + str(df_a.loc[i, 'colum5']).ljust(10) + str(df_a.loc[i, 'colum6']).ljust(10) + str(df_a.loc[i, 'colum7']).ljust(10) + str(df_a.loc[i, 'colum8']).ljust(10)+ str(df_a.loc[i, 'channel']).ljust(15) + '\\n') \n"
   ]
  }
 ],
 "metadata": {
  "kernelspec": {
   "display_name": "Python 3.8.10 64-bit",
   "language": "python",
   "name": "python3"
  },
  "language_info": {
   "codemirror_mode": {
    "name": "ipython",
    "version": 3
   },
   "file_extension": ".py",
   "mimetype": "text/x-python",
   "name": "python",
   "nbconvert_exporter": "python",
   "pygments_lexer": "ipython3",
   "version": "3.8.10"
  },
  "orig_nbformat": 4,
  "vscode": {
   "interpreter": {
    "hash": "916dbcbb3f70747c44a77c7bcd40155683ae19c65e1c03b4aa3499c5328201f1"
   }
  }
 },
 "nbformat": 4,
 "nbformat_minor": 2
}
