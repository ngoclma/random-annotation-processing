{
 "cells": [
  {
   "cell_type": "code",
   "execution_count": 52,
   "metadata": {},
   "outputs": [],
   "source": [
    "import pandas as pd\n",
    "import numpy as np\n",
    "import os"
   ]
  },
  {
   "cell_type": "markdown",
   "metadata": {},
   "source": [
    "# FILE D"
   ]
  },
  {
   "cell_type": "code",
   "execution_count": 53,
   "metadata": {},
   "outputs": [],
   "source": [
    "# set-up\n",
    "dir = \"/home/ngoc012/Downloads/merge_data/C&D_file/inp\"\n",
    "origins = os.listdir(dir)\n",
    "origins.sort()"
   ]
  },
  {
   "cell_type": "code",
   "execution_count": 56,
   "metadata": {},
   "outputs": [],
   "source": [
    "no = 0\n",
    "\n",
    "l_merge = []\n",
    "time = []\n",
    "i = 0\n",
    "\n",
    "for origin in origins:\n",
    "    # read csv & convert to df\n",
    "    data = pd.read_csv('inp/' + origin, delim_whitespace=True)\n",
    "    df = pd.DataFrame(data)\n",
    "\n",
    "    # create id column\n",
    "    n = len(df)\n",
    "    id = [no] * n\n",
    "    df['id'] = id\n",
    "    no = no + 1\n",
    "\n",
    "    # convert to list\n",
    "    l_df = df.values.tolist()\n",
    "\n",
    "    # insert row\n",
    "    for j in range(len(l_df)):\n",
    "        # check if needs delete old\n",
    "        current = l_df[j][0]\n",
    "        if (current in time) and (len(l_merge) > 0):\n",
    "            for k in range(len(l_merge)):\n",
    "                if (l_merge[k][0] == current):\n",
    "                    if (l_merge[k][9] == -1) or (l_merge[k][9] == l_df[j][9]):\n",
    "                        break\n",
    "                    elif (l_merge[k][9] < l_df[j][9]):\n",
    "                        # print('catch ' + current + ' in ' + str(l_df[j][9]))\n",
    "                        l_merge[k][9] = -1\n",
    "        else:\n",
    "            time.append(l_df[j][0])\n",
    "        # insert new\n",
    "        l_merge.append([])\n",
    "        for k in range(10):\n",
    "            l_merge[i].append(l_df[j][k])            \n",
    "        i = i + 1\n",
    "        \n",
    "df_merge = pd.DataFrame(l_merge, columns = df.columns) \n",
    "f = open('d_combine.csv', 'w')\n",
    "f.write('timestamp'.ljust(25) + 'object_id'.ljust(15) + 'colum2'.ljust(10) + 'colum3'.ljust(10) + 'colum4'.ljust(10) + 'colum5'.ljust(10) + 'colum6'.ljust(10) + 'colum7'.ljust(10) + 'colum8'.ljust(10) + '\\n') \n",
    "\n",
    "f.close()\n",
    "for i in range(len(df_merge)):\n",
    "    with open('d_combine.csv', 'a') as f:\n",
    "        if(df_merge.loc[i, 'id'] > -1):\n",
    "            f.write(str(df_merge.loc[i, 'timestamp']).ljust(25) + str(df_merge.loc[i, 'object_id']).ljust(15) + str(df_merge.loc[i, 'colum2']).ljust(10) + str(df_merge.loc[i, 'colum3']).ljust(10) + str(df_merge.loc[i, 'colum4']).ljust(10) + str(df_merge.loc[i, 'colum5']).ljust(10) + str(df_merge.loc[i, 'colum6']).ljust(10) + str(df_merge.loc[i, 'colum7']).ljust(10) + str(df_merge.loc[i, 'colum8']).ljust(10) + '\\n') \n"
   ]
  }
 ],
 "metadata": {
  "kernelspec": {
   "display_name": "Python 3.8.10 64-bit",
   "language": "python",
   "name": "python3"
  },
  "language_info": {
   "codemirror_mode": {
    "name": "ipython",
    "version": 3
   },
   "file_extension": ".py",
   "mimetype": "text/x-python",
   "name": "python",
   "nbconvert_exporter": "python",
   "pygments_lexer": "ipython3",
   "version": "3.8.10"
  },
  "orig_nbformat": 4,
  "vscode": {
   "interpreter": {
    "hash": "916dbcbb3f70747c44a77c7bcd40155683ae19c65e1c03b4aa3499c5328201f1"
   }
  }
 },
 "nbformat": 4,
 "nbformat_minor": 2
}
