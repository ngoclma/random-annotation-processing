{
 "cells": [
  {
   "cell_type": "code",
   "execution_count": 67,
   "metadata": {},
   "outputs": [],
   "source": [
    "import pandas as pd"
   ]
  },
  {
   "cell_type": "markdown",
   "metadata": {},
   "source": [
    "# FILE B"
   ]
  },
  {
   "cell_type": "code",
   "execution_count": 68,
   "metadata": {},
   "outputs": [],
   "source": [
    "# reading csv files\n",
    "data_b1 = pd.read_csv('ch1_b.csv', delim_whitespace=True)\n",
    "data_b2 = pd.read_csv('ch2_b.csv', delim_whitespace=True)\n",
    "\n",
    "# convert to df\n",
    "df_b1 = pd.DataFrame(data_b1)\n",
    "df_b2 = pd.DataFrame(data_b2)"
   ]
  },
  {
   "cell_type": "code",
   "execution_count": 69,
   "metadata": {},
   "outputs": [],
   "source": [
    "# init\n",
    "n1 = len(df_b1)\n",
    "n2 = len(df_b2)\n",
    "i = i1 = i2 = 0\n",
    "\n",
    "# create df_b\n",
    "l_b = []\n",
    "l_b1 = df_b1.values.tolist()\n",
    "l_b2 = df_b2.values.tolist()\n",
    "\n",
    "while (i1 != n1) and (i2 != n2):\n",
    "    l_b.append([])\n",
    "    # if single\n",
    "    if (i1 == n1) or (i2 == n2) or (l_b1[i1][0] != l_b2[i2][0]):\n",
    "        print(i1)\n",
    "        print(i2)\n",
    "        if (i2 == n2) or (l_b1[i1][0] < l_b2[i2][0]):\n",
    "            l_b[i].append(l_b1[i1])\n",
    "            i1 = i1 + 1\n",
    "        else:\n",
    "            l_b[i].append(l_b2[i2])\n",
    "            i2 = i2 + 1\n",
    "    # if double\n",
    "    else:    \n",
    "        # set timestamp\n",
    "        l_b[i].append(l_b1[i1][0])\n",
    "\n",
    "        # plus ch1 & ch2\n",
    "        for j in range(1,7):\n",
    "            l_b[i].append(l_b1[i1][j] + l_b2[i2][j])\n",
    "\n",
    "        i1 = i1 + 1\n",
    "        i2 = i2 + 1\n",
    "    \n",
    "    i = i + 1\n",
    "    \n",
    "    \n",
    "df_b = pd.DataFrame(l_b)\n",
    "\n",
    "df_b.columns = df_b1.columns\n",
    "#df_b.to_csv('b_combine.csv', index=False)\n",
    "f = open('b_combine.csv', 'w')\n",
    "f.write('timestamp'.ljust(25) + 'col1'.ljust(10) + 'col2'.ljust(10) + 'col3'.ljust(10) + 'col4'.ljust(10) + 'col5'.ljust(10) + 'col6'.ljust(10) + '\\n') \n",
    "\n",
    "f.close()\n",
    "for i in range(len(df_b)):\n",
    "    with open('b_combine.csv', 'a') as f:\n",
    "        f.write(str(df_b.loc[i, 'timestamp']).ljust(25) + str(df_b.loc[i, 'col1']).ljust(10) + str(df_b.loc[i, 'col2']).ljust(10) + str(df_b.loc[i, 'col3']).ljust(10) + str(df_b.loc[i, 'col4']).ljust(10) + str(df_b.loc[i, 'col5']).ljust(10) + str(df_b.loc[i, 'col6']).ljust(10) + '\\n') \n"
   ]
  }
 ],
 "metadata": {
  "kernelspec": {
   "display_name": "Python 3.8.10 64-bit",
   "language": "python",
   "name": "python3"
  },
  "language_info": {
   "codemirror_mode": {
    "name": "ipython",
    "version": 3
   },
   "file_extension": ".py",
   "mimetype": "text/x-python",
   "name": "python",
   "nbconvert_exporter": "python",
   "pygments_lexer": "ipython3",
   "version": "3.8.10"
  },
  "orig_nbformat": 4,
  "vscode": {
   "interpreter": {
    "hash": "916dbcbb3f70747c44a77c7bcd40155683ae19c65e1c03b4aa3499c5328201f1"
   }
  }
 },
 "nbformat": 4,
 "nbformat_minor": 2
}
